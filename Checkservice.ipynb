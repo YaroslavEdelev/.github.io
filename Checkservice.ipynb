{
 "cells": [
  {
   "cell_type": "code",
   "execution_count": 1,
   "id": "afdd62e4-4101-4cb5-ada9-5ab67806cf46",
   "metadata": {},
   "outputs": [
    {
     "name": "stderr",
     "output_type": "stream",
     "text": [
      "pyproj not installed\n"
     ]
    },
    {
     "data": {
      "application/vnd.jupyter.widget-view+json": {
       "model_id": "89cb02e55b2b4677a95d6740a09456cc",
       "version_major": 2,
       "version_minor": 0
      },
      "text/plain": [
       "Text(value='', description='Session id', placeholder='Type session id')"
      ]
     },
     "metadata": {},
     "output_type": "display_data"
    },
    {
     "data": {
      "application/vnd.jupyter.widget-view+json": {
       "model_id": "ed917a1adceb40cf872b92a6d211b426",
       "version_major": 2,
       "version_minor": 0
      },
      "text/plain": [
       "Button(button_style='success', description='Проверить состояние', icon='check', layout=Layout(width='max-conte…"
      ]
     },
     "metadata": {},
     "output_type": "display_data"
    },
    {
     "data": {
      "application/vnd.jupyter.widget-view+json": {
       "model_id": "44de2fafbcc5444f9956da84eb67f470",
       "version_major": 2,
       "version_minor": 0
      },
      "text/plain": [
       "Output()"
      ]
     },
     "metadata": {},
     "output_type": "display_data"
    }
   ],
   "source": [
    "from birdy import WPSClient\n",
    "import json, requests\n",
    "import ipywidgets as widgets\n",
    "from ipywidgets import Layout\n",
    "output = widgets.Output()\n",
    "session_id_int= widgets.Text(\n",
    "    value='',\n",
    "    placeholder='Type session id',\n",
    "    description='Session id',   \n",
    ")\n",
    "activate = widgets.Button(\n",
    "    description='Проверить состояние',\n",
    "    disabled=False,\n",
    "    button_style='success', \n",
    "    tooltip='Click me',\n",
    "    icon='check', \n",
    "    layout=Layout(width=\"max-content\")\n",
    ")\n",
    "display(session_id_int, activate)\n",
    "status=0\n",
    "def send_request(b):\n",
    "    with output:\n",
    "        if session_id_int.value==\"\":\n",
    "            print(\"Print session id\")\n",
    "        else:\n",
    "            WPS=WPSClient('http://62.109.13.45/pywps')\n",
    "            status=WPS.modcheck(task_id=session_id_int.value)\n",
    "            status=status.get()\n",
    "            print(status)\n",
    "activate.on_click(send_request)\n",
    "display(output)"
   ]
  },
  {
   "cell_type": "code",
   "execution_count": null,
   "id": "72cdc55e-ab73-4bed-b9bb-d6c68887d856",
   "metadata": {},
   "outputs": [],
   "source": []
  }
 ],
 "metadata": {
  "kernelspec": {
   "display_name": "Python 3 (ipykernel)",
   "language": "python",
   "name": "python3"
  },
  "language_info": {
   "codemirror_mode": {
    "name": "ipython",
    "version": 3
   },
   "file_extension": ".py",
   "mimetype": "text/x-python",
   "name": "python",
   "nbconvert_exporter": "python",
   "pygments_lexer": "ipython3",
   "version": "3.10.12"
  }
 },
 "nbformat": 4,
 "nbformat_minor": 5
}
